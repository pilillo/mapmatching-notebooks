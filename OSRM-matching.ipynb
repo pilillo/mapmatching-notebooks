{
 "cells": [
  {
   "cell_type": "code",
   "execution_count": 1,
   "id": "foreign-corner",
   "metadata": {},
   "outputs": [],
   "source": [
    "import pandas as pd\n",
    "import numpy as np\n",
    "import json\n",
    "import requests\n",
    "\n",
    "from keplergl import KeplerGl"
   ]
  },
  {
   "cell_type": "code",
   "execution_count": 4,
   "id": "revised-reservoir",
   "metadata": {},
   "outputs": [
    {
     "name": "stderr",
     "output_type": "stream",
     "text": [
      "bash: line 1: -f: command not found\n",
      "--2022-02-04 19:10:17--  https://archive.ics.uci.edu/ml/machine-learning-databases/00354/GPS%20Trajectory.rar\n",
      "Risoluzione di archive.ics.uci.edu (archive.ics.uci.edu)... 128.195.10.252\n",
      "Connessione a archive.ics.uci.edu (archive.ics.uci.edu)|128.195.10.252|:443... connesso.\n",
      "Richiesta HTTP inviata, in attesa di risposta... 200 OK\n",
      "Lunghezza: 220690 (216K) [application/x-httpd-php]\n",
      "Salvataggio in: «GPS Trajectory.rar.1»\n",
      "\n",
      "     0K .......... .......... .......... .......... .......... 23%  134K 1s\n",
      "    50K .......... .......... .......... .......... .......... 46%  276K 1s\n",
      "   100K .......... .......... .......... .......... .......... 69% 7,94M 0s\n",
      "   150K .......... .......... .......... .......... .......... 92% 7,91M 0s\n",
      "   200K .......... .....                                      100% 89,7K=0,7s\n",
      "\n",
      "2022-02-04 19:10:18 (291 KB/s) - «GPS Trajectory.rar.1» salvato [220690/220690]\n",
      "\n"
     ]
    }
   ],
   "source": [
    "%%bash\n",
    "$(! -f \"GPS Trajectory.rar\") && wget https://archive.ics.uci.edu/ml/machine-learning-databases/00354/GPS%20Trajectory.rar"
   ]
  },
  {
   "cell_type": "code",
   "execution_count": 10,
   "id": "yellow-behalf",
   "metadata": {},
   "outputs": [],
   "source": [
    "%%bash\n",
    "rm \"GPS Trajectory.rar.1\""
   ]
  },
  {
   "cell_type": "code",
   "execution_count": 12,
   "id": "historical-addiction",
   "metadata": {},
   "outputs": [
    {
     "name": "stdout",
     "output_type": "stream",
     "text": [
      "\n",
      "RAR 6.10   Copyright (c) 1993-2022 Alexander Roshal   24 Jan 2022\n",
      "Trial version             Type 'rar -?' for help\n",
      "\n",
      "\n",
      "Extracting from GPS Trajectory.rar\n",
      "\n",
      "Creating    GPS Trajectory                                            OK\n",
      "Extracting  GPS Trajectory/go_track_tracks.csv                           \b\b\b\b  1%\b\b\b\b\b  OK \n",
      "Extracting  GPS Trajectory/go_track_trackspoints.csv                     \b\b\b\b 16%\b\b\b\b 31%\b\b\b\b 46%\b\b\b\b 61%\b\b\b\b 76%\b\b\b\b 90%\b\b\b\b 99%\b\b\b\b\b  OK \n",
      "All OK\n"
     ]
    }
   ],
   "source": [
    "%%bash\n",
    "rar x \"GPS Trajectory.rar\""
   ]
  },
  {
   "cell_type": "code",
   "execution_count": 4,
   "id": "economic-reading",
   "metadata": {},
   "outputs": [],
   "source": [
    "df = pd.read_csv(\"GPS Trajectory/go_track_trackspoints.csv\")"
   ]
  },
  {
   "cell_type": "code",
   "execution_count": 5,
   "id": "front-botswana",
   "metadata": {},
   "outputs": [
    {
     "data": {
      "text/html": [
       "<div>\n",
       "<style scoped>\n",
       "    .dataframe tbody tr th:only-of-type {\n",
       "        vertical-align: middle;\n",
       "    }\n",
       "\n",
       "    .dataframe tbody tr th {\n",
       "        vertical-align: top;\n",
       "    }\n",
       "\n",
       "    .dataframe thead th {\n",
       "        text-align: right;\n",
       "    }\n",
       "</style>\n",
       "<table border=\"1\" class=\"dataframe\">\n",
       "  <thead>\n",
       "    <tr style=\"text-align: right;\">\n",
       "      <th></th>\n",
       "      <th>id</th>\n",
       "      <th>latitude</th>\n",
       "      <th>longitude</th>\n",
       "      <th>track_id</th>\n",
       "      <th>time</th>\n",
       "    </tr>\n",
       "  </thead>\n",
       "  <tbody>\n",
       "    <tr>\n",
       "      <th>0</th>\n",
       "      <td>1</td>\n",
       "      <td>-10.939341</td>\n",
       "      <td>-37.062742</td>\n",
       "      <td>1</td>\n",
       "      <td>2014-09-13 07:24:32</td>\n",
       "    </tr>\n",
       "    <tr>\n",
       "      <th>1</th>\n",
       "      <td>2</td>\n",
       "      <td>-10.939341</td>\n",
       "      <td>-37.062742</td>\n",
       "      <td>1</td>\n",
       "      <td>2014-09-13 07:24:37</td>\n",
       "    </tr>\n",
       "    <tr>\n",
       "      <th>2</th>\n",
       "      <td>3</td>\n",
       "      <td>-10.939324</td>\n",
       "      <td>-37.062765</td>\n",
       "      <td>1</td>\n",
       "      <td>2014-09-13 07:24:42</td>\n",
       "    </tr>\n",
       "    <tr>\n",
       "      <th>3</th>\n",
       "      <td>4</td>\n",
       "      <td>-10.939211</td>\n",
       "      <td>-37.062843</td>\n",
       "      <td>1</td>\n",
       "      <td>2014-09-13 07:24:47</td>\n",
       "    </tr>\n",
       "    <tr>\n",
       "      <th>4</th>\n",
       "      <td>5</td>\n",
       "      <td>-10.938939</td>\n",
       "      <td>-37.062879</td>\n",
       "      <td>1</td>\n",
       "      <td>2014-09-13 07:24:53</td>\n",
       "    </tr>\n",
       "  </tbody>\n",
       "</table>\n",
       "</div>"
      ],
      "text/plain": [
       "   id   latitude  longitude  track_id                 time\n",
       "0   1 -10.939341 -37.062742         1  2014-09-13 07:24:32\n",
       "1   2 -10.939341 -37.062742         1  2014-09-13 07:24:37\n",
       "2   3 -10.939324 -37.062765         1  2014-09-13 07:24:42\n",
       "3   4 -10.939211 -37.062843         1  2014-09-13 07:24:47\n",
       "4   5 -10.938939 -37.062879         1  2014-09-13 07:24:53"
      ]
     },
     "execution_count": 5,
     "metadata": {},
     "output_type": "execute_result"
    }
   ],
   "source": [
    "df.head()"
   ]
  },
  {
   "cell_type": "code",
   "execution_count": 77,
   "id": "universal-pollution",
   "metadata": {},
   "outputs": [
    {
     "name": "stdout",
     "output_type": "stream",
     "text": [
      "User Guide: https://docs.kepler.gl/docs/keplergl-jupyter\n"
     ]
    },
    {
     "data": {
      "application/vnd.jupyter.widget-view+json": {
       "model_id": "b592101a288d4576ac3c7ccbd29a5c57",
       "version_major": 2,
       "version_minor": 0
      },
      "text/plain": [
       "KeplerGl(data={'data_1':           id   latitude  longitude  track_id                 time\n",
       "0          1 -10.93…"
      ]
     },
     "metadata": {},
     "output_type": "display_data"
    }
   ],
   "source": [
    "KeplerGl(height=400, data={\"data_1\": df}) #, config=config)"
   ]
  },
  {
   "cell_type": "code",
   "execution_count": 15,
   "id": "invisible-recognition",
   "metadata": {},
   "outputs": [
    {
     "name": "stdout",
     "output_type": "stream",
     "text": [
      "Map saved to first_map.html!\n"
     ]
    }
   ],
   "source": [
    "map_2.save_to_html(file_name='first_map.html', data={\"data_1\": df}) #, config=config)"
   ]
  },
  {
   "cell_type": "code",
   "execution_count": 8,
   "id": "casual-fossil",
   "metadata": {},
   "outputs": [
    {
     "data": {
      "text/plain": [
       "<AxesSubplot:xlabel='longitude', ylabel='latitude'>"
      ]
     },
     "execution_count": 8,
     "metadata": {},
     "output_type": "execute_result"
    },
    {
     "data": {
      "image/png": "[encoded data removed]",
      "text/plain": [
       "<Figure size 432x288 with 1 Axes>"
      ]
     },
     "metadata": {
      "needs_background": "light"
     },
     "output_type": "display_data"
    }
   ],
   "source": [
    "df_cut = df[(df['latitude']<-10.30) & (df['longitude']>-36.9)]\n",
    "df_cut.plot(x=\"longitude\", y=\"latitude\", kind=\"scatter\", colormap=\"YlOrRd\") #c=\"brightness\")"
   ]
  },
  {
   "cell_type": "code",
   "execution_count": 13,
   "id": "protective-translator",
   "metadata": {},
   "outputs": [],
   "source": [
    "mu, sigma = 0, 0.0002 \n",
    "noise = np.random.normal(mu, sigma, [len(df_cut.index),])\n",
    "df_cut.loc[:,'latitude'] = df_cut.loc[:,'latitude'] + noise\n",
    "df_cut.loc[:,'longitude'] = df_cut.loc[:,'longitude'] + noise"
   ]
  },
  {
   "cell_type": "code",
   "execution_count": 14,
   "id": "approximate-palestine",
   "metadata": {},
   "outputs": [
    {
     "data": {
      "text/plain": [
       "<AxesSubplot:xlabel='longitude', ylabel='latitude'>"
      ]
     },
     "execution_count": 14,
     "metadata": {},
     "output_type": "execute_result"
    },
    {
     "data": {
      "image/png": "[encoded data removed]",
      "text/plain": [
       "<Figure size 432x288 with 1 Axes>"
      ]
     },
     "metadata": {
      "needs_background": "light"
     },
     "output_type": "display_data"
    }
   ],
   "source": [
    "df_cut.plot(x=\"longitude\", y=\"latitude\", kind=\"scatter\", colormap=\"YlOrRd\") #c=\"brightness\")"
   ]
  },
  {
   "cell_type": "code",
   "execution_count": null,
   "id": "intelligent-hunter",
   "metadata": {},
   "outputs": [],
   "source": [
    "#/match/v1/{profile}/{coordinates}?steps={true|false}&geometries={polyline|polyline6|geojson}&overview={simplified|full|false}&annotations={true|false}\n",
    "#http://router.project-osrm.oxrg/match/v1/driving/8.610048,46.99917;8.620048,46.99917?overview=full&radiuses=49;49\n",
    "#points expressed as lat,long"
   ]
  },
  {
   "cell_type": "code",
   "execution_count": 71,
   "id": "placed-rochester",
   "metadata": {},
   "outputs": [
    {
     "name": "stdout",
     "output_type": "stream",
     "text": [
      "1294 128\n",
      "User Guide: https://docs.kepler.gl/docs/keplergl-jupyter\n"
     ]
    },
    {
     "data": {
      "application/vnd.jupyter.widget-view+json": {
       "model_id": "1cfbc77878bd4edebbed9a123dd7fa38",
       "version_major": 2,
       "version_minor": 0
      },
      "text/plain": [
       "KeplerGl(data={'data_1':       latitude  longitude\n",
       "0   -10.457355 -36.493557\n",
       "1   -10.498396 -36.597052\n",
       "2   -10…"
      ]
     },
     "metadata": {},
     "output_type": "display_data"
    }
   ],
   "source": [
    "# if url is too large, decimate series using polyline\n",
    "from rdp import rdp\n",
    "#df_cut[['latitude','longitude']].to_numpy()\n",
    "#rdp(df_cut[['latitude','longitude']].to_numpy(), epsilon=0.5)\n",
    "\n",
    "decimated = rdp(df_cut[['latitude','longitude']].to_numpy(), epsilon=0.06)\n",
    "df_decimated = pd.DataFrame(decimated, columns = ['latitude','longitude'])\n",
    "\n",
    "print(df_cut.shape[0], df_decimated.shape[0])\n",
    "\n",
    "KeplerGl(height=400, data={\"data_1\": df_decimated})"
   ]
  },
  {
   "cell_type": "code",
   "execution_count": 72,
   "id": "abandoned-hacker",
   "metadata": {},
   "outputs": [],
   "source": [
    "# Sending a request to OSRM matcher\n",
    "base_url = \"http://router.project-osrm.org/match/v1/driving/\"\n",
    "#base_url = \"http://localhost:5005/match/v1/driving/\"\n",
    "headers = {'Content-type': 'application/json'}"
   ]
  },
  {
   "cell_type": "code",
   "execution_count": 73,
   "id": "worldwide-catalyst",
   "metadata": {},
   "outputs": [
    {
     "name": "stdout",
     "output_type": "stream",
     "text": [
      "http://router.project-osrm.org/match/v1/driving/-10.457354660981604,-36.49355707098161;-10.498395960576069,-36.59705244057607;-10.438777492583215,-36.661352012583215;-10.457191428359177,-36.493393838359175;-10.432587291231302,-36.6681828012313;-10.454351881162903,-36.495315411162906;-10.429947133444012,-36.671596433444016;-10.452299483281948,-36.497019143281946;-10.428830441572915,-36.671404851572916;-10.451875049002938,-36.49723923900294;-10.429464274182026,-36.674041294182025;-10.449913947844742,-36.497993737844745;-10.430215655302405,-36.676224665302406;-10.449483333388157,-36.49806183338816;-10.430128069507575,-36.677403139507575;-10.448228060714538,-36.49786849071453;-10.430388591475285,-36.680862801475286;-10.447057878390966,-36.49805068839097;-10.429057907020937,-36.680745307020935;-10.445915505564088,-36.49738333556408;-10.429183526981262,-36.68280092698126;-10.445450067620294,-36.49776381762029;-10.429297211863531,-36.68390020186354;-10.444308625829251,-36.497118015829244;-10.426853291572773,-36.684624771572764;-10.442967475628182,-36.497346565628185;-10.426419570426333,-36.68507397042633;-10.442528331133298,-36.49736393113329;-10.425305418027063,-36.68503020802706;-10.441792296585954,-36.49717747658596;-10.42377333776379,-36.686986557763795;-10.441196684548212,-36.49753154454822;-10.385368420358578,-36.72750098035857;-10.487695090946815,-36.563716210946815;-10.384650381184048,-36.728432011184054;-10.487626670473901,-36.56401474047391;-10.384623783121024,-36.730031303121024;-10.4885272320032,-36.5653144820032;-10.382578550320744,-36.73102655032074;-10.488750461576714,-36.56588545157671;-10.381658042411303,-36.731798722411305;-10.490209628894833,-36.56809742889483;-10.380105790809296,-36.7332869908093;-10.491086396272989,-36.56929827627299;-10.379403714710442,-36.734144604710444;-10.49166701085449,-36.570587060854486;-10.378202056721674,-36.73563063672168;-10.494053076169326,-36.573920176169324;-10.375930212265809,-36.73784533226581;-10.495223254386689,-36.5760834543867;-10.375159619142098,-36.73866668914209;-10.495341470386906,-36.576482010386904;-10.37424914969361,-36.73938091969361;-10.495644865592052,-36.57712849559205;-10.373279274976774,-36.739729814976776;-10.496797323138372,-36.57866754313837;-10.372917413964855,-36.74091383396486;-10.496911999739481,-36.57909511973948;-10.372115111678413,-36.74140308167841;-10.497545964300938,-36.58008594430093;-10.37099516475237,-36.74189048475237;-10.497532595970425,-36.58037042597042;-10.369970148669394,-36.74214495866939;-10.498269583447591,-36.581464183447586;-10.369797905571783,-36.74353801557178;-10.498754140534581,-36.58230594053458;-10.368986546895332,-36.74562888689534;-10.499525796987506,-36.583989836987506;-10.367215297998081,-36.74547775799808;-10.49988164435813,-36.58503127435814;-10.365006380873698,-36.748283570873696;-10.499544640186487,-36.587827230186484;-10.363655801539025,-36.748439661539024;-10.499653828366549,-36.58906623836654;-10.351039033148227,-36.76460203314823;-10.49227880227757,-36.61646891227757;-10.350108396897115,-36.767188856897114;-10.491637698701538,-36.620097958701535;-10.349782916128563,-36.76938308612856;-10.491393570804767,-36.62084789080476;-10.348599987980384,-36.77293850798039;-10.487444240176474,-36.621109950176475;-10.347984283287655,-36.77473277328765;-10.486450519502295,-36.622085639502295;-10.347929730310856,-36.77708305031086;-10.48420822760504,-36.62197880760503;-10.348016057175014,-36.77802890717502;-10.483471868507992,-36.622194238507994;-10.348226936997126,-36.779180726997126;-10.482546758927793,-36.62220240892779;-10.348616270756057,-36.78037134075606;-10.481652771188298,-36.622418021188295;-10.348481930541896,-36.7811853105419;-10.480710422394319,-36.62240212239432;-10.348250322993053,-36.784164542993054;-10.477214078293716,-36.62289115829372;-10.348663196276181,-36.785386936276176;-10.477398333892255,-36.62421665389226;-10.34904197275873,-36.787132482758736;-10.475267385606516,-36.623963925606525;-10.34924337074157,-36.78803558074157;-10.473890571318552,-36.62357768131856;-10.35017776951708,-36.78941090951708;-10.47373368819755,-36.624327328197545;-10.350437332409259,-36.790398522409255;-10.471615351306975,-36.62442042130697;-10.350941346028534,-36.79132204602854;-10.471923806486062,-36.62610065648606;-10.351580589499457,-36.79233885949945;-10.471543568648036,-36.62690725864803;-10.352442000408354,-36.79365711040835;-10.470431145091721,-36.62723985509172;-10.352422825262984,-36.79405386526299;-10.470234926238916,-36.62817592623892;-10.352803292974288,-36.79471949297428;-10.469619495932438,-36.62996773593243;-10.353112282582774,-36.795315772582775;-10.46930966851195,-36.63067017851194;-10.353179411414526,-36.79567788141453;-10.468853962617459,-36.631232712617454;-10.353287250096091,-36.79614866009609;-10.468024112338382,-36.631412512338386;-10.353731772957714,-36.79699866295771;-10.46840904989082,-36.63297426989082;-10.386512815912544,-36.89597554591255;-10.409707447581,-36.70160309758099;-10.354566343315948,-36.75623057331595;-10.37985417352207,-36.85053532352206?overview=full&radiuses=49;49\n"
     ]
    }
   ],
   "source": [
    "points=\";\".join(\n",
    "    df_decimated[['latitude','longitude']].apply(lambda r : \"{},{}\".format(r['latitude'], r['longitude']), axis=1).tolist()\n",
    ")\n",
    "url = \"{}{}?overview=full&radiuses=49;49\".format(base_url, points)\n",
    "print(url)"
   ]
  },
  {
   "cell_type": "code",
   "execution_count": 74,
   "id": "specified-nurse",
   "metadata": {},
   "outputs": [],
   "source": [
    "#data = str(body)\n",
    "#r = requests.post(url, data=data, headers=headers)\n",
    "r = requests.get(url)"
   ]
  },
  {
   "cell_type": "code",
   "execution_count": 75,
   "id": "sitting-sentence",
   "metadata": {},
   "outputs": [
    {
     "data": {
      "text/plain": [
       "400"
      ]
     },
     "execution_count": 75,
     "metadata": {},
     "output_type": "execute_result"
    }
   ],
   "source": [
    "r.status_code"
   ]
  },
  {
   "cell_type": "code",
   "execution_count": 76,
   "id": "prerequisite-heather",
   "metadata": {},
   "outputs": [],
   "source": [
    "if r.status_code == 200:\n",
    "    print(json.loads(r.text))\n",
    "    "
   ]
  },
  {
   "cell_type": "code",
   "execution_count": null,
   "id": "ahead-mailman",
   "metadata": {},
   "outputs": [],
   "source": []
  }
 ],
 "metadata": {
  "kernelspec": {
   "display_name": "Python 3",
   "language": "python",
   "name": "python3"
  },
  "language_info": {
   "codemirror_mode": {
    "name": "ipython",
    "version": 3
   },
   "file_extension": ".py",
   "mimetype": "text/x-python",
   "name": "python",
   "nbconvert_exporter": "python",
   "pygments_lexer": "ipython3",
   "version": "3.8.5"
  }
 },
 "nbformat": 4,
 "nbformat_minor": 5
}
